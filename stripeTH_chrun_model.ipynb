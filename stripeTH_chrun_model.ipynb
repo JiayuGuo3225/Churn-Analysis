{
 "cells": [
  {
   "cell_type": "markdown",
   "id": "964b2fbd",
   "metadata": {},
   "source": [
    "## Questions:\n",
    "\n",
    "We have limited data on these merchants and their transactions, but we are still interested in understanding their payments activity to try to infer the types of merchants using Stripe. Using only the given data, how would you identify different kinds of businesses in the sample? Please generate assignments for each merchant.\n",
    "\n",
    "Sometimes a merchant may stop processing with Stripe, which we call churn. We are interested in identifying and predicting churn. \n",
    "Please \n",
    "\n",
    "a) come up with a concrete definition for churn \n",
    "\n",
    "b) identify merchants that have already churned in the dataset, and \n",
    "\n",
    "c) build a model to predict which active merchants are most likely to churn in the near future.\n",
    "\n"
   ]
  },
  {
   "cell_type": "code",
   "execution_count": 1,
   "id": "df134ed1",
   "metadata": {
    "ExecuteTime": {
     "end_time": "2022-03-30T01:39:35.502564Z",
     "start_time": "2022-03-30T01:39:32.275129Z"
    },
    "code_folding": [],
    "run_control": {
     "marked": false
    }
   },
   "outputs": [],
   "source": [
    "#warnings\n",
    "import warnings\n",
    "warnings.filterwarnings('ignore')\n",
    "import numpy as np\n",
    "import matplotlib.pyplot as plt\n",
    "import seaborn as sns\n",
    "# use pandas to read cvs file\n",
    "import pandas as pd\n",
    "import datetime\n",
    "# preprocessing\n",
    "from sklearn.preprocessing import StandardScaler\n",
    "from imblearn.over_sampling import SMOTE\n",
    "from imblearn.over_sampling import RandomOverSampler\n",
    "\n",
    "# model & Selection\n",
    "from sklearn.cluster import KMeans\n",
    "from sklearn.linear_model import LogisticRegression\n",
    "from sklearn.ensemble import RandomForestClassifier\n",
    "from xgboost import XGBClassifier\n",
    "from sklearn.metrics import silhouette_score\n",
    "from sklearn.metrics import classification_report\n",
    "from sklearn.model_selection import train_test_split\n",
    "from sklearn.model_selection import GridSearchCV"
   ]
  },
  {
   "cell_type": "markdown",
   "id": "734f0205",
   "metadata": {},
   "source": [
    "# Check the data"
   ]
  },
  {
   "cell_type": "code",
   "execution_count": 2,
   "id": "063a791c",
   "metadata": {
    "ExecuteTime": {
     "end_time": "2022-03-30T01:39:36.402345Z",
     "start_time": "2022-03-30T01:39:35.504051Z"
    }
   },
   "outputs": [
    {
     "data": {
      "text/html": [
       "<div>\n",
       "<style scoped>\n",
       "    .dataframe tbody tr th:only-of-type {\n",
       "        vertical-align: middle;\n",
       "    }\n",
       "\n",
       "    .dataframe tbody tr th {\n",
       "        vertical-align: top;\n",
       "    }\n",
       "\n",
       "    .dataframe thead th {\n",
       "        text-align: right;\n",
       "    }\n",
       "</style>\n",
       "<table border=\"1\" class=\"dataframe\">\n",
       "  <thead>\n",
       "    <tr style=\"text-align: right;\">\n",
       "      <th></th>\n",
       "      <th>merchant</th>\n",
       "      <th>time</th>\n",
       "      <th>amount_usd_in_cents</th>\n",
       "    </tr>\n",
       "  </thead>\n",
       "  <tbody>\n",
       "    <tr>\n",
       "      <th>1</th>\n",
       "      <td>faa029c6b0</td>\n",
       "      <td>2034-06-17 23:34:14</td>\n",
       "      <td>6349</td>\n",
       "    </tr>\n",
       "    <tr>\n",
       "      <th>2</th>\n",
       "      <td>ed7a7d91aa</td>\n",
       "      <td>2034-12-27 00:40:38</td>\n",
       "      <td>3854</td>\n",
       "    </tr>\n",
       "    <tr>\n",
       "      <th>3</th>\n",
       "      <td>5608f200cf</td>\n",
       "      <td>2034-04-30 01:29:42</td>\n",
       "      <td>789</td>\n",
       "    </tr>\n",
       "    <tr>\n",
       "      <th>4</th>\n",
       "      <td>15b1a0d61e</td>\n",
       "      <td>2034-09-16 01:06:23</td>\n",
       "      <td>4452</td>\n",
       "    </tr>\n",
       "    <tr>\n",
       "      <th>5</th>\n",
       "      <td>4770051790</td>\n",
       "      <td>2034-07-22 16:21:42</td>\n",
       "      <td>20203</td>\n",
       "    </tr>\n",
       "  </tbody>\n",
       "</table>\n",
       "</div>"
      ],
      "text/plain": [
       "     merchant                 time  amount_usd_in_cents\n",
       "1  faa029c6b0  2034-06-17 23:34:14                 6349\n",
       "2  ed7a7d91aa  2034-12-27 00:40:38                 3854\n",
       "3  5608f200cf  2034-04-30 01:29:42                  789\n",
       "4  15b1a0d61e  2034-09-16 01:06:23                 4452\n",
       "5  4770051790  2034-07-22 16:21:42                20203"
      ]
     },
     "execution_count": 2,
     "metadata": {},
     "output_type": "execute_result"
    }
   ],
   "source": [
    "#use pandas to look the data\n",
    "df=pd.read_csv('takehome_ds_written.csv',index_col=0)\n",
    "df.head()"
   ]
  },
  {
   "cell_type": "code",
   "execution_count": 3,
   "id": "beeaf225",
   "metadata": {
    "ExecuteTime": {
     "end_time": "2022-03-30T01:39:36.711222Z",
     "start_time": "2022-03-30T01:39:36.403319Z"
    },
    "scrolled": true
   },
   "outputs": [
    {
     "name": "stdout",
     "output_type": "stream",
     "text": [
      "<class 'pandas.core.frame.DataFrame'>\n",
      "Int64Index: 1513719 entries, 1 to 1513719\n",
      "Data columns (total 3 columns):\n",
      " #   Column               Non-Null Count    Dtype \n",
      "---  ------               --------------    ----- \n",
      " 0   merchant             1513719 non-null  object\n",
      " 1   time                 1513719 non-null  object\n",
      " 2   amount_usd_in_cents  1513719 non-null  int64 \n",
      "dtypes: int64(1), object(2)\n",
      "memory usage: 46.2+ MB\n"
     ]
    }
   ],
   "source": [
    "df.info()"
   ]
  },
  {
   "cell_type": "code",
   "execution_count": 4,
   "id": "1f5559c7",
   "metadata": {
    "ExecuteTime": {
     "end_time": "2022-03-30T01:39:36.790807Z",
     "start_time": "2022-03-30T01:39:36.712173Z"
    }
   },
   "outputs": [
    {
     "name": "stdout",
     "output_type": "stream",
     "text": [
      "the merchants total shape is (1513719,)\n",
      "the merchants unique shape is (14351,)\n"
     ]
    }
   ],
   "source": [
    "# check the total size and the number of unique merchant of the dataset\n",
    "print('the merchant''s total shape is', df['merchant'].shape)\n",
    "print('the merchant''s unique shape is',df['merchant'].unique().shape)"
   ]
  },
  {
   "cell_type": "markdown",
   "id": "0fe2722c",
   "metadata": {},
   "source": [
    "\n",
    "## Get deep intp the merchant feature\n",
    "    * convert 'time' to datetime\n",
    "    * convert cent to dollar\n",
    "    * groupby the merchant by 'amount_usd\n",
    "    * groupby the merchant by 'time\n",
    "    * get the period which is the start and last date and total using period of each merchant"
   ]
  },
  {
   "cell_type": "code",
   "execution_count": 5,
   "id": "48791247",
   "metadata": {
    "ExecuteTime": {
     "end_time": "2022-03-30T01:39:37.290791Z",
     "start_time": "2022-03-30T01:39:36.792662Z"
    }
   },
   "outputs": [
    {
     "data": {
      "text/html": [
       "<div>\n",
       "<style scoped>\n",
       "    .dataframe tbody tr th:only-of-type {\n",
       "        vertical-align: middle;\n",
       "    }\n",
       "\n",
       "    .dataframe tbody tr th {\n",
       "        vertical-align: top;\n",
       "    }\n",
       "\n",
       "    .dataframe thead th {\n",
       "        text-align: right;\n",
       "    }\n",
       "</style>\n",
       "<table border=\"1\" class=\"dataframe\">\n",
       "  <thead>\n",
       "    <tr style=\"text-align: right;\">\n",
       "      <th></th>\n",
       "      <th>start_date</th>\n",
       "      <th>last_date</th>\n",
       "      <th>Period</th>\n",
       "      <th>Total_Expense</th>\n",
       "      <th>Average_expense_daily</th>\n",
       "      <th>total_days</th>\n",
       "    </tr>\n",
       "    <tr>\n",
       "      <th>merchant</th>\n",
       "      <th></th>\n",
       "      <th></th>\n",
       "      <th></th>\n",
       "      <th></th>\n",
       "      <th></th>\n",
       "      <th></th>\n",
       "    </tr>\n",
       "  </thead>\n",
       "  <tbody>\n",
       "    <tr>\n",
       "      <th>0002b63b92</th>\n",
       "      <td>2033-05-16 20:07:57</td>\n",
       "      <td>2033-05-16 20:07:57</td>\n",
       "      <td>1</td>\n",
       "      <td>33.79</td>\n",
       "      <td>33.790000</td>\n",
       "      <td>1</td>\n",
       "    </tr>\n",
       "    <tr>\n",
       "      <th>0002d07bba</th>\n",
       "      <td>2034-10-11 17:02:26</td>\n",
       "      <td>2034-12-15 09:56:19</td>\n",
       "      <td>65</td>\n",
       "      <td>892.78</td>\n",
       "      <td>223.195000</td>\n",
       "      <td>4</td>\n",
       "    </tr>\n",
       "    <tr>\n",
       "      <th>00057d4302</th>\n",
       "      <td>2033-05-30 01:30:52</td>\n",
       "      <td>2033-08-04 04:26:40</td>\n",
       "      <td>67</td>\n",
       "      <td>295.21</td>\n",
       "      <td>10.543214</td>\n",
       "      <td>28</td>\n",
       "    </tr>\n",
       "    <tr>\n",
       "      <th>000bcff341</th>\n",
       "      <td>2033-08-09 20:18:36</td>\n",
       "      <td>2033-08-09 20:18:36</td>\n",
       "      <td>1</td>\n",
       "      <td>78.26</td>\n",
       "      <td>78.260000</td>\n",
       "      <td>1</td>\n",
       "    </tr>\n",
       "    <tr>\n",
       "      <th>000ddbf0ca</th>\n",
       "      <td>2033-06-02 13:25:12</td>\n",
       "      <td>2033-06-02 13:25:12</td>\n",
       "      <td>1</td>\n",
       "      <td>102.99</td>\n",
       "      <td>102.990000</td>\n",
       "      <td>1</td>\n",
       "    </tr>\n",
       "  </tbody>\n",
       "</table>\n",
       "</div>"
      ],
      "text/plain": [
       "                    start_date           last_date  Period  Total_Expense  \\\n",
       "merchant                                                                    \n",
       "0002b63b92 2033-05-16 20:07:57 2033-05-16 20:07:57       1          33.79   \n",
       "0002d07bba 2034-10-11 17:02:26 2034-12-15 09:56:19      65         892.78   \n",
       "00057d4302 2033-05-30 01:30:52 2033-08-04 04:26:40      67         295.21   \n",
       "000bcff341 2033-08-09 20:18:36 2033-08-09 20:18:36       1          78.26   \n",
       "000ddbf0ca 2033-06-02 13:25:12 2033-06-02 13:25:12       1         102.99   \n",
       "\n",
       "            Average_expense_daily  total_days  \n",
       "merchant                                       \n",
       "0002b63b92              33.790000           1  \n",
       "0002d07bba             223.195000           4  \n",
       "00057d4302              10.543214          28  \n",
       "000bcff341              78.260000           1  \n",
       "000ddbf0ca             102.990000           1  "
      ]
     },
     "execution_count": 5,
     "metadata": {},
     "output_type": "execute_result"
    }
   ],
   "source": [
    "# convert 'time' to datetime\n",
    "df['time']=pd.to_datetime(df['time'])\n",
    "\n",
    "# convert cent to dollar\n",
    "df['amount_usd']=df['amount_usd_in_cents']/100\n",
    "\n",
    "# the average transaction amount and total transaction times of each merchant\n",
    "df_merchant=pd.DataFrame(df.groupby('merchant')['amount_usd'].agg(['sum','mean','count']))\n",
    "\n",
    "# the start and last date and total using period of each merchant\n",
    "df_period=pd.DataFrame(df.groupby('merchant')['time'].agg(['min','max']))\n",
    "df_period['Period']=(df_period['max']-df_period['min']).dt.days + 1\n",
    "\n",
    "df1=pd.concat([df_period,df_merchant],axis=1).rename(columns={'sum':'Total_Expense','min':'start_date','max':'last_date',\n",
    "                                                   'mean':'Average_expense_daily','count':'total_days'})\n",
    "\n",
    "#head 5\n",
    "df1.head()"
   ]
  },
  {
   "cell_type": "markdown",
   "id": "dda78b5a",
   "metadata": {},
   "source": [
    "## Define 3 new columns depend on Days\n",
    "* Frequency: One order every few days on average = (Period)/(total_days)\n",
    "* Freshness: The number of days since the merchant has been using the app = '2035-1-1' - Start_Date\n",
    "* Recency: The number of days since the last purchase time = '2035-1-1' - Last_Date"
   ]
  },
  {
   "cell_type": "code",
   "execution_count": 6,
   "id": "ff770afc",
   "metadata": {
    "ExecuteTime": {
     "end_time": "2022-03-30T01:39:37.303355Z",
     "start_time": "2022-03-30T01:39:37.291687Z"
    }
   },
   "outputs": [
    {
     "data": {
      "text/html": [
       "<div>\n",
       "<style scoped>\n",
       "    .dataframe tbody tr th:only-of-type {\n",
       "        vertical-align: middle;\n",
       "    }\n",
       "\n",
       "    .dataframe tbody tr th {\n",
       "        vertical-align: top;\n",
       "    }\n",
       "\n",
       "    .dataframe thead th {\n",
       "        text-align: right;\n",
       "    }\n",
       "</style>\n",
       "<table border=\"1\" class=\"dataframe\">\n",
       "  <thead>\n",
       "    <tr style=\"text-align: right;\">\n",
       "      <th></th>\n",
       "      <th>Period</th>\n",
       "      <th>Total_Expense</th>\n",
       "      <th>Average_expense_daily</th>\n",
       "      <th>Frequency</th>\n",
       "      <th>Freshness</th>\n",
       "      <th>Recency</th>\n",
       "    </tr>\n",
       "    <tr>\n",
       "      <th>merchant</th>\n",
       "      <th></th>\n",
       "      <th></th>\n",
       "      <th></th>\n",
       "      <th></th>\n",
       "      <th></th>\n",
       "      <th></th>\n",
       "    </tr>\n",
       "  </thead>\n",
       "  <tbody>\n",
       "    <tr>\n",
       "      <th>0002b63b92</th>\n",
       "      <td>1</td>\n",
       "      <td>33.79</td>\n",
       "      <td>33.790000</td>\n",
       "      <td>2.000</td>\n",
       "      <td>595</td>\n",
       "      <td>595</td>\n",
       "    </tr>\n",
       "    <tr>\n",
       "      <th>0002d07bba</th>\n",
       "      <td>65</td>\n",
       "      <td>892.78</td>\n",
       "      <td>223.195000</td>\n",
       "      <td>17.250</td>\n",
       "      <td>82</td>\n",
       "      <td>17</td>\n",
       "    </tr>\n",
       "    <tr>\n",
       "      <th>00057d4302</th>\n",
       "      <td>67</td>\n",
       "      <td>295.21</td>\n",
       "      <td>10.543214</td>\n",
       "      <td>3.393</td>\n",
       "      <td>581</td>\n",
       "      <td>515</td>\n",
       "    </tr>\n",
       "    <tr>\n",
       "      <th>000bcff341</th>\n",
       "      <td>1</td>\n",
       "      <td>78.26</td>\n",
       "      <td>78.260000</td>\n",
       "      <td>2.000</td>\n",
       "      <td>510</td>\n",
       "      <td>510</td>\n",
       "    </tr>\n",
       "    <tr>\n",
       "      <th>000ddbf0ca</th>\n",
       "      <td>1</td>\n",
       "      <td>102.99</td>\n",
       "      <td>102.990000</td>\n",
       "      <td>2.000</td>\n",
       "      <td>578</td>\n",
       "      <td>578</td>\n",
       "    </tr>\n",
       "  </tbody>\n",
       "</table>\n",
       "</div>"
      ],
      "text/plain": [
       "            Period  Total_Expense  Average_expense_daily  Frequency  \\\n",
       "merchant                                                              \n",
       "0002b63b92       1          33.79              33.790000      2.000   \n",
       "0002d07bba      65         892.78             223.195000     17.250   \n",
       "00057d4302      67         295.21              10.543214      3.393   \n",
       "000bcff341       1          78.26              78.260000      2.000   \n",
       "000ddbf0ca       1         102.99             102.990000      2.000   \n",
       "\n",
       "            Freshness  Recency  \n",
       "merchant                        \n",
       "0002b63b92        595      595  \n",
       "0002d07bba         82       17  \n",
       "00057d4302        581      515  \n",
       "000bcff341        510      510  \n",
       "000ddbf0ca        578      578  "
      ]
     },
     "execution_count": 6,
     "metadata": {},
     "output_type": "execute_result"
    }
   ],
   "source": [
    "# calculate the \"Frequency\"\n",
    "df1['Frequency']=round(df1['Period']/df1['total_days']+1,3)\n",
    "\n",
    "# calculate the \"Freshness\"\n",
    "df1['Freshness']=(datetime.datetime(2035,1,1,0,0,0)-df1['start_date']).dt.days +1\n",
    "\n",
    "# calculate the \"Recency\"\n",
    "df1['Recency']=(datetime.datetime(2035,1,1,0,0,0)-df1['last_date']).dt.days + 1\n",
    "\n",
    "df2=df1.drop(columns=['start_date','last_date', 'total_days'])\n",
    "\n",
    "#head 10\n",
    "df2.head()"
   ]
  },
  {
   "cell_type": "markdown",
   "id": "382ac91d",
   "metadata": {},
   "source": [
    "# data analysis"
   ]
  },
  {
   "cell_type": "code",
   "execution_count": 7,
   "id": "63513d0f",
   "metadata": {
    "ExecuteTime": {
     "end_time": "2022-03-30T01:39:37.322983Z",
     "start_time": "2022-03-30T01:39:37.306008Z"
    }
   },
   "outputs": [
    {
     "data": {
      "text/html": [
       "<div>\n",
       "<style scoped>\n",
       "    .dataframe tbody tr th:only-of-type {\n",
       "        vertical-align: middle;\n",
       "    }\n",
       "\n",
       "    .dataframe tbody tr th {\n",
       "        vertical-align: top;\n",
       "    }\n",
       "\n",
       "    .dataframe thead th {\n",
       "        text-align: right;\n",
       "    }\n",
       "</style>\n",
       "<table border=\"1\" class=\"dataframe\">\n",
       "  <thead>\n",
       "    <tr style=\"text-align: right;\">\n",
       "      <th></th>\n",
       "      <th>Period</th>\n",
       "      <th>Total_Expense</th>\n",
       "      <th>Average_expense_daily</th>\n",
       "      <th>Frequency</th>\n",
       "      <th>Freshness</th>\n",
       "      <th>Recency</th>\n",
       "    </tr>\n",
       "  </thead>\n",
       "  <tbody>\n",
       "    <tr>\n",
       "      <th>count</th>\n",
       "      <td>14351.000000</td>\n",
       "      <td>1.435100e+04</td>\n",
       "      <td>14351.000000</td>\n",
       "      <td>14351.000000</td>\n",
       "      <td>14351.000000</td>\n",
       "      <td>14351.000000</td>\n",
       "    </tr>\n",
       "    <tr>\n",
       "      <th>mean</th>\n",
       "      <td>200.478085</td>\n",
       "      <td>1.633296e+04</td>\n",
       "      <td>381.045794</td>\n",
       "      <td>15.386785</td>\n",
       "      <td>337.881054</td>\n",
       "      <td>137.961605</td>\n",
       "    </tr>\n",
       "    <tr>\n",
       "      <th>std</th>\n",
       "      <td>203.849367</td>\n",
       "      <td>6.431726e+04</td>\n",
       "      <td>1415.186160</td>\n",
       "      <td>24.413067</td>\n",
       "      <td>205.578134</td>\n",
       "      <td>174.498650</td>\n",
       "    </tr>\n",
       "    <tr>\n",
       "      <th>min</th>\n",
       "      <td>1.000000</td>\n",
       "      <td>2.010000e+00</td>\n",
       "      <td>2.010000</td>\n",
       "      <td>1.000000</td>\n",
       "      <td>1.000000</td>\n",
       "      <td>1.000000</td>\n",
       "    </tr>\n",
       "    <tr>\n",
       "      <th>25%</th>\n",
       "      <td>18.000000</td>\n",
       "      <td>3.626300e+02</td>\n",
       "      <td>57.381817</td>\n",
       "      <td>2.000000</td>\n",
       "      <td>159.000000</td>\n",
       "      <td>11.000000</td>\n",
       "    </tr>\n",
       "    <tr>\n",
       "      <th>50%</th>\n",
       "      <td>128.000000</td>\n",
       "      <td>1.602620e+03</td>\n",
       "      <td>109.650000</td>\n",
       "      <td>6.000000</td>\n",
       "      <td>326.000000</td>\n",
       "      <td>52.000000</td>\n",
       "    </tr>\n",
       "    <tr>\n",
       "      <th>75%</th>\n",
       "      <td>349.000000</td>\n",
       "      <td>8.230995e+03</td>\n",
       "      <td>273.212222</td>\n",
       "      <td>17.600000</td>\n",
       "      <td>510.000000</td>\n",
       "      <td>214.000000</td>\n",
       "    </tr>\n",
       "    <tr>\n",
       "      <th>max</th>\n",
       "      <td>729.000000</td>\n",
       "      <td>2.369072e+06</td>\n",
       "      <td>88874.651667</td>\n",
       "      <td>363.500000</td>\n",
       "      <td>730.000000</td>\n",
       "      <td>729.000000</td>\n",
       "    </tr>\n",
       "  </tbody>\n",
       "</table>\n",
       "</div>"
      ],
      "text/plain": [
       "             Period  Total_Expense  Average_expense_daily     Frequency  \\\n",
       "count  14351.000000   1.435100e+04           14351.000000  14351.000000   \n",
       "mean     200.478085   1.633296e+04             381.045794     15.386785   \n",
       "std      203.849367   6.431726e+04            1415.186160     24.413067   \n",
       "min        1.000000   2.010000e+00               2.010000      1.000000   \n",
       "25%       18.000000   3.626300e+02              57.381817      2.000000   \n",
       "50%      128.000000   1.602620e+03             109.650000      6.000000   \n",
       "75%      349.000000   8.230995e+03             273.212222     17.600000   \n",
       "max      729.000000   2.369072e+06           88874.651667    363.500000   \n",
       "\n",
       "          Freshness       Recency  \n",
       "count  14351.000000  14351.000000  \n",
       "mean     337.881054    137.961605  \n",
       "std      205.578134    174.498650  \n",
       "min        1.000000      1.000000  \n",
       "25%      159.000000     11.000000  \n",
       "50%      326.000000     52.000000  \n",
       "75%      510.000000    214.000000  \n",
       "max      730.000000    729.000000  "
      ]
     },
     "execution_count": 7,
     "metadata": {},
     "output_type": "execute_result"
    }
   ],
   "source": [
    "df2.describe()"
   ]
  },
  {
   "cell_type": "markdown",
   "id": "3a4d84b4",
   "metadata": {},
   "source": [
    "## Draw the every column plot"
   ]
  },
  {
   "cell_type": "code",
   "execution_count": 8,
   "id": "a1df9d83",
   "metadata": {
    "ExecuteTime": {
     "end_time": "2022-03-30T01:39:37.569555Z",
     "start_time": "2022-03-30T01:39:37.323833Z"
    }
   },
   "outputs": [
    {
     "data": {
      "image/png": "[encoded data removed]",
      "text/plain": [
       "<Figure size 1440x288 with 6 Axes>"
      ]
     },
     "metadata": {
      "needs_background": "light"
     },
     "output_type": "display_data"
    }
   ],
   "source": [
    "plt.figure(1 , figsize = (20 , 4))\n",
    "n = 0 \n",
    "for x in df2.columns:\n",
    "    n += 1\n",
    "    plt.subplot(1 , 6 , n)\n",
    "    plt.subplots_adjust(hspace =0.5 , wspace = 0.5)\n",
    "    sns.boxplot(df2[x],color=\"blue\")\n",
    "    plt.title('Boxplot of {}'.format(x))\n",
    "plt.show()"
   ]
  },
  {
   "cell_type": "code",
   "execution_count": 9,
   "id": "bb7425aa",
   "metadata": {
    "ExecuteTime": {
     "end_time": "2022-03-30T01:39:37.726472Z",
     "start_time": "2022-03-30T01:39:37.570523Z"
    }
   },
   "outputs": [
    {
     "data": {
      "text/plain": [
       "<AxesSubplot:>"
      ]
     },
     "execution_count": 9,
     "metadata": {},
     "output_type": "execute_result"
    },
    {
     "data": {
      "image/png": "[encoded data removed]",
      "text/plain": [
       "<Figure size 432x288 with 2 Axes>"
      ]
     },
     "metadata": {
      "needs_background": "light"
     },
     "output_type": "display_data"
    }
   ],
   "source": [
    "sns.heatmap(df2.corr(),annot=True)"
   ]
  },
  {
   "cell_type": "markdown",
   "id": "c8b15ef7",
   "metadata": {},
   "source": [
    "### Conclusion:\n",
    "The features are mostly positively skewed according to the distribution plot\n",
    "\n",
    "Most of the features are little correlated with each other according to the heatmap\n",
    "\n",
    "So for next step we need to use cluster method to cluser the data"
   ]
  },
  {
   "cell_type": "code",
   "execution_count": 10,
   "id": "57a1c5e1",
   "metadata": {
    "ExecuteTime": {
     "end_time": "2022-03-30T01:39:37.740765Z",
     "start_time": "2022-03-30T01:39:37.727686Z"
    }
   },
   "outputs": [
    {
     "data": {
      "text/html": [
       "<div>\n",
       "<style scoped>\n",
       "    .dataframe tbody tr th:only-of-type {\n",
       "        vertical-align: middle;\n",
       "    }\n",
       "\n",
       "    .dataframe tbody tr th {\n",
       "        vertical-align: top;\n",
       "    }\n",
       "\n",
       "    .dataframe thead th {\n",
       "        text-align: right;\n",
       "    }\n",
       "</style>\n",
       "<table border=\"1\" class=\"dataframe\">\n",
       "  <thead>\n",
       "    <tr style=\"text-align: right;\">\n",
       "      <th></th>\n",
       "      <th>Period</th>\n",
       "      <th>Total_Expense</th>\n",
       "      <th>Average_expense_daily</th>\n",
       "      <th>Frequency</th>\n",
       "      <th>Freshness</th>\n",
       "      <th>Recency</th>\n",
       "    </tr>\n",
       "  </thead>\n",
       "  <tbody>\n",
       "    <tr>\n",
       "      <th>0</th>\n",
       "      <td>-0.978590</td>\n",
       "      <td>-0.253427</td>\n",
       "      <td>-0.245387</td>\n",
       "      <td>-0.548364</td>\n",
       "      <td>1.250755</td>\n",
       "      <td>2.619243</td>\n",
       "    </tr>\n",
       "    <tr>\n",
       "      <th>1</th>\n",
       "      <td>-0.664622</td>\n",
       "      <td>-0.240071</td>\n",
       "      <td>-0.111545</td>\n",
       "      <td>0.076323</td>\n",
       "      <td>-1.244733</td>\n",
       "      <td>-0.693219</td>\n",
       "    </tr>\n",
       "    <tr>\n",
       "      <th>2</th>\n",
       "      <td>-0.654811</td>\n",
       "      <td>-0.249362</td>\n",
       "      <td>-0.261814</td>\n",
       "      <td>-0.491303</td>\n",
       "      <td>1.182652</td>\n",
       "      <td>2.160770</td>\n",
       "    </tr>\n",
       "    <tr>\n",
       "      <th>3</th>\n",
       "      <td>-0.978590</td>\n",
       "      <td>-0.252736</td>\n",
       "      <td>-0.213962</td>\n",
       "      <td>-0.548364</td>\n",
       "      <td>0.837273</td>\n",
       "      <td>2.132116</td>\n",
       "    </tr>\n",
       "    <tr>\n",
       "      <th>4</th>\n",
       "      <td>-0.978590</td>\n",
       "      <td>-0.252351</td>\n",
       "      <td>-0.196487</td>\n",
       "      <td>-0.548364</td>\n",
       "      <td>1.168059</td>\n",
       "      <td>2.521817</td>\n",
       "    </tr>\n",
       "  </tbody>\n",
       "</table>\n",
       "</div>"
      ],
      "text/plain": [
       "     Period  Total_Expense  Average_expense_daily  Frequency  Freshness  \\\n",
       "0 -0.978590      -0.253427              -0.245387  -0.548364   1.250755   \n",
       "1 -0.664622      -0.240071              -0.111545   0.076323  -1.244733   \n",
       "2 -0.654811      -0.249362              -0.261814  -0.491303   1.182652   \n",
       "3 -0.978590      -0.252736              -0.213962  -0.548364   0.837273   \n",
       "4 -0.978590      -0.252351              -0.196487  -0.548364   1.168059   \n",
       "\n",
       "    Recency  \n",
       "0  2.619243  \n",
       "1 -0.693219  \n",
       "2  2.160770  \n",
       "3  2.132116  \n",
       "4  2.521817  "
      ]
     },
     "execution_count": 10,
     "metadata": {},
     "output_type": "execute_result"
    }
   ],
   "source": [
    "'''\n",
    "    Use Unsuprvised learning algorithm KMeans to cluster the data\n",
    "\n",
    "'''\n",
    "\n",
    "# scale the data\n",
    "scaler=StandardScaler() \n",
    "scaler.fit(df2) #out: standardscaler(copy = true, with_mean = true, with_std = true)\n",
    "df2_scale=scaler.transform(df2) #out: array\n",
    "\n",
    "#dataframe\n",
    "df2scale=pd.DataFrame(df2_scale,columns=['Period','Total_Expense','Average_expense_daily',\n",
    "                                         'Frequency','Freshness','Recency'])\n",
    "df2scale.head()"
   ]
  },
  {
   "cell_type": "code",
   "execution_count": 11,
   "id": "2cc808b9",
   "metadata": {
    "ExecuteTime": {
     "end_time": "2022-03-30T01:40:08.934047Z",
     "start_time": "2022-03-30T01:39:37.742195Z"
    }
   },
   "outputs": [],
   "source": [
    "# using \"inertia\" and \"silhouette_avg\" to select the best parameter \"n_clusters\"\n",
    "inertia = []\n",
    "silhouette_avg = []\n",
    "for n in range(2 ,20):\n",
    "    cluster = KMeans(n_clusters = n ,init='k-means++', \n",
    "                     tol=0.0001,  random_state= 111  , algorithm='elkan')  # n_init = 10\n",
    "    cluster.fit(df2_scale)\n",
    "    inertia.append(cluster.inertia_)#sum up inertia\n",
    "    silhouette_avg.append(silhouette_score(df2_scale,cluster.labels_)) #.labels_ get the cluster label"
   ]
  },
  {
   "cell_type": "code",
   "execution_count": 12,
   "id": "ef39b307",
   "metadata": {
    "ExecuteTime": {
     "end_time": "2022-03-30T01:40:09.080713Z",
     "start_time": "2022-03-30T01:40:08.936224Z"
    }
   },
   "outputs": [
    {
     "data": {
      "image/png": "[encoded data removed]",
      "text/plain": [
       "<Figure size 1080x576 with 2 Axes>"
      ]
     },
     "metadata": {
      "needs_background": "light"
     },
     "output_type": "display_data"
    }
   ],
   "source": [
    "fig,ax = plt.subplots(1 , figsize = (15 ,8))\n",
    "ax.plot(np.arange(2 , 20) , inertia , 'o', color='orange')\n",
    "ax.plot(np.arange(2 , 20) , inertia , '-' , alpha = 1 , color='orange')\n",
    "ax.set_xlabel('Number of Clusters',fontsize=20)\n",
    "ax.set_ylabel('Inertia',color='orange',fontsize=20)\n",
    "\n",
    "ax2=ax.twinx()\n",
    "ax2.plot(np.arange(2 , 20) , silhouette_avg , 's', color=\"blue\")\n",
    "ax2.plot(np.arange(2 , 20) , silhouette_avg , '-' , alpha = 1, color=\"blue\" )\n",
    "ax2.set_ylabel('silhouette_avg',color=\"blue\",fontsize=20)\n",
    "\n",
    "\n",
    "plt.show()"
   ]
  },
  {
   "cell_type": "code",
   "execution_count": 13,
   "id": "1450ef18",
   "metadata": {
    "ExecuteTime": {
     "end_time": "2022-03-30T01:40:09.244879Z",
     "start_time": "2022-03-30T01:40:09.081912Z"
    }
   },
   "outputs": [],
   "source": [
    "# use \"n_clusters=6\" as the model parameter\n",
    "cluster = KMeans(n_clusters = 6 ,init='k-means++', \n",
    "                        tol=0.0001,  random_state= 111  , algorithm='elkan') \n",
    "cluster.fit(df2_scale)\n",
    "labels = cluster.labels_\n",
    "centroids = cluster.cluster_centers_"
   ]
  },
  {
   "cell_type": "code",
   "execution_count": 14,
   "id": "ee717d80",
   "metadata": {
    "ExecuteTime": {
     "end_time": "2022-03-30T01:40:09.265327Z",
     "start_time": "2022-03-30T01:40:09.250805Z"
    }
   },
   "outputs": [
    {
     "data": {
      "text/html": [
       "<div>\n",
       "<style scoped>\n",
       "    .dataframe tbody tr th:only-of-type {\n",
       "        vertical-align: middle;\n",
       "    }\n",
       "\n",
       "    .dataframe tbody tr th {\n",
       "        vertical-align: top;\n",
       "    }\n",
       "\n",
       "    .dataframe thead th {\n",
       "        text-align: right;\n",
       "    }\n",
       "</style>\n",
       "<table border=\"1\" class=\"dataframe\">\n",
       "  <thead>\n",
       "    <tr style=\"text-align: right;\">\n",
       "      <th></th>\n",
       "      <th>Period</th>\n",
       "      <th>Total_Expense</th>\n",
       "      <th>Average_expense_daily</th>\n",
       "      <th>Frequency</th>\n",
       "      <th>Freshness</th>\n",
       "      <th>Recency</th>\n",
       "      <th>label</th>\n",
       "    </tr>\n",
       "  </thead>\n",
       "  <tbody>\n",
       "    <tr>\n",
       "      <th>0</th>\n",
       "      <td>-0.978590</td>\n",
       "      <td>-0.253427</td>\n",
       "      <td>-0.245387</td>\n",
       "      <td>-0.548364</td>\n",
       "      <td>1.250755</td>\n",
       "      <td>2.619243</td>\n",
       "      <td>3</td>\n",
       "    </tr>\n",
       "    <tr>\n",
       "      <th>1</th>\n",
       "      <td>-0.664622</td>\n",
       "      <td>-0.240071</td>\n",
       "      <td>-0.111545</td>\n",
       "      <td>0.076323</td>\n",
       "      <td>-1.244733</td>\n",
       "      <td>-0.693219</td>\n",
       "      <td>1</td>\n",
       "    </tr>\n",
       "    <tr>\n",
       "      <th>2</th>\n",
       "      <td>-0.654811</td>\n",
       "      <td>-0.249362</td>\n",
       "      <td>-0.261814</td>\n",
       "      <td>-0.491303</td>\n",
       "      <td>1.182652</td>\n",
       "      <td>2.160770</td>\n",
       "      <td>3</td>\n",
       "    </tr>\n",
       "    <tr>\n",
       "      <th>3</th>\n",
       "      <td>-0.978590</td>\n",
       "      <td>-0.252736</td>\n",
       "      <td>-0.213962</td>\n",
       "      <td>-0.548364</td>\n",
       "      <td>0.837273</td>\n",
       "      <td>2.132116</td>\n",
       "      <td>3</td>\n",
       "    </tr>\n",
       "    <tr>\n",
       "      <th>4</th>\n",
       "      <td>-0.978590</td>\n",
       "      <td>-0.252351</td>\n",
       "      <td>-0.196487</td>\n",
       "      <td>-0.548364</td>\n",
       "      <td>1.168059</td>\n",
       "      <td>2.521817</td>\n",
       "      <td>3</td>\n",
       "    </tr>\n",
       "    <tr>\n",
       "      <th>...</th>\n",
       "      <td>...</td>\n",
       "      <td>...</td>\n",
       "      <td>...</td>\n",
       "      <td>...</td>\n",
       "      <td>...</td>\n",
       "      <td>...</td>\n",
       "      <td>...</td>\n",
       "    </tr>\n",
       "    <tr>\n",
       "      <th>14346</th>\n",
       "      <td>-0.870664</td>\n",
       "      <td>-0.242660</td>\n",
       "      <td>-0.166623</td>\n",
       "      <td>-0.400897</td>\n",
       "      <td>1.892869</td>\n",
       "      <td>3.243911</td>\n",
       "      <td>3</td>\n",
       "    </tr>\n",
       "    <tr>\n",
       "      <th>14347</th>\n",
       "      <td>0.296906</td>\n",
       "      <td>-0.210165</td>\n",
       "      <td>-0.231717</td>\n",
       "      <td>-0.387584</td>\n",
       "      <td>1.158330</td>\n",
       "      <td>1.020321</td>\n",
       "      <td>3</td>\n",
       "    </tr>\n",
       "    <tr>\n",
       "      <th>14348</th>\n",
       "      <td>0.659931</td>\n",
       "      <td>-0.104825</td>\n",
       "      <td>-0.185591</td>\n",
       "      <td>-0.419904</td>\n",
       "      <td>0.180565</td>\n",
       "      <td>-0.555678</td>\n",
       "      <td>5</td>\n",
       "    </tr>\n",
       "    <tr>\n",
       "      <th>14349</th>\n",
       "      <td>-0.880475</td>\n",
       "      <td>-0.251475</td>\n",
       "      <td>-0.231732</td>\n",
       "      <td>-0.302586</td>\n",
       "      <td>0.015172</td>\n",
       "      <td>1.048975</td>\n",
       "      <td>3</td>\n",
       "    </tr>\n",
       "    <tr>\n",
       "      <th>14350</th>\n",
       "      <td>1.493910</td>\n",
       "      <td>-0.170971</td>\n",
       "      <td>-0.187279</td>\n",
       "      <td>-0.139634</td>\n",
       "      <td>0.842137</td>\n",
       "      <td>-0.750528</td>\n",
       "      <td>5</td>\n",
       "    </tr>\n",
       "  </tbody>\n",
       "</table>\n",
       "<p>14351 rows × 7 columns</p>\n",
       "</div>"
      ],
      "text/plain": [
       "         Period  Total_Expense  Average_expense_daily  Frequency  Freshness  \\\n",
       "0     -0.978590      -0.253427              -0.245387  -0.548364   1.250755   \n",
       "1     -0.664622      -0.240071              -0.111545   0.076323  -1.244733   \n",
       "2     -0.654811      -0.249362              -0.261814  -0.491303   1.182652   \n",
       "3     -0.978590      -0.252736              -0.213962  -0.548364   0.837273   \n",
       "4     -0.978590      -0.252351              -0.196487  -0.548364   1.168059   \n",
       "...         ...            ...                    ...        ...        ...   \n",
       "14346 -0.870664      -0.242660              -0.166623  -0.400897   1.892869   \n",
       "14347  0.296906      -0.210165              -0.231717  -0.387584   1.158330   \n",
       "14348  0.659931      -0.104825              -0.185591  -0.419904   0.180565   \n",
       "14349 -0.880475      -0.251475              -0.231732  -0.302586   0.015172   \n",
       "14350  1.493910      -0.170971              -0.187279  -0.139634   0.842137   \n",
       "\n",
       "        Recency  label  \n",
       "0      2.619243      3  \n",
       "1     -0.693219      1  \n",
       "2      2.160770      3  \n",
       "3      2.132116      3  \n",
       "4      2.521817      3  \n",
       "...         ...    ...  \n",
       "14346  3.243911      3  \n",
       "14347  1.020321      3  \n",
       "14348 -0.555678      5  \n",
       "14349  1.048975      3  \n",
       "14350 -0.750528      5  \n",
       "\n",
       "[14351 rows x 7 columns]"
      ]
     },
     "execution_count": 14,
     "metadata": {},
     "output_type": "execute_result"
    }
   ],
   "source": [
    "# see the number of merchants in each cluster\n",
    "df2scale['label']=labels\n",
    "df2scale.groupby('label').agg('count').iloc[:,0]\n",
    "df2scale"
   ]
  },
  {
   "cell_type": "code",
   "execution_count": 15,
   "id": "110caab7",
   "metadata": {
    "ExecuteTime": {
     "end_time": "2022-03-30T01:40:09.798874Z",
     "start_time": "2022-03-30T01:40:09.266984Z"
    }
   },
   "outputs": [
    {
     "data": {
      "image/png": "[encoded data removed]",
      "text/plain": [
       "<Figure size 1152x576 with 6 Axes>"
      ]
     },
     "metadata": {
      "needs_background": "light"
     },
     "output_type": "display_data"
    }
   ],
   "source": [
    "# boxplot to see distribution on each cluster\n",
    "df2['label']=labels\n",
    "name=locals()\n",
    "fig,((ax0,ax1,ax2),(ax3,ax4,ax5)) = plt.subplots(2,3, figsize = (16,8))\n",
    "for i in range(6):\n",
    "    sns.boxplot(x='label', y=df2.iloc[:,i], data=df2,ax=name['ax'+str(i)])"
   ]
  },
  {
   "cell_type": "markdown",
   "id": "d033fd6b",
   "metadata": {},
   "source": [
    "# Semi-Comment:\n",
    "|   label   | Period | Total_Expense | Average_expense_daily | Frequency | Freshness | Recency | Characteristics| Active merchant|\n",
    "| :----: | :----: |  :----:          | :----:             | :----:       | :----:      |:----:     |:----  |:----  |\n",
    "| 1      | slightly shorter  | small | mostly small | high-frequency |new| mostly short|New customers with high-frequency of use services and kind of good expense ability(Average_expense_daily)|Very active|\n",
    "| 4      | mostly long  | large| small| very high-frequency| mostly old | short| Old customers who keep using with high-frequency of use services and small expense ability(Average_expense_daily), but large total amount|active|\n",
    "| 2      | long  | small| mostly small<br/>some large| low-frequency | old | mostly short| Old customers with low-frequency of use services and kind of good expense ability(Average_expense_daily)|relative active|\n",
    "| 5      | long| small| small |slightly low-frequency | old | short |Old customers who keep using with low-frequency of use services and small expense ability(Average_expense_daily)|relative active|\n",
    "| 3     | mostly short  | mostly small | small | low-frequency| old | long |Old customers who have not used for a long time with low-frequency of use and low expense ability(Average_expense_daily)|No|\n",
    "| 0   | short |  slightly larger | very large | high-frequency | relatively new |relatively long| Special Customers who only use service in a very short period with large expense amount | Special|\n",
    "\n"
   ]
  },
  {
   "cell_type": "markdown",
   "id": "1a821be6",
   "metadata": {},
   "source": [
    "# Question: come up with a concrete definition for churn \n",
    "\n",
    "### Guess: From the conclusion above  two merchants may have not used Stripe for the same days,the merchant with “low-frequency ” may be more likely to have been churned compared to the merchant with “high-frequency”.  The longer using period is, the more likely user rely on Stripe.\n",
    "\n",
    "\n",
    "##  $ChurnRate=\\frac{Recency}{Frequency}$<br/> $ChurnScore = \\frac{1}{2}ChurnRate + \\frac{1}{2}\\frac{100}{Period}$"
   ]
  },
  {
   "cell_type": "code",
   "execution_count": 16,
   "id": "5ce92716",
   "metadata": {
    "ExecuteTime": {
     "end_time": "2022-03-30T01:40:09.805011Z",
     "start_time": "2022-03-30T01:40:09.799810Z"
    }
   },
   "outputs": [
    {
     "name": "stdout",
     "output_type": "stream",
     "text": [
      "count    14351.000000\n",
      "mean        31.085130\n",
      "std         56.976897\n",
      "min          0.074468\n",
      "25%          0.810949\n",
      "50%          3.215008\n",
      "75%         33.589646\n",
      "max        396.634615\n",
      "Name: ChurnScore, dtype: float64\n",
      "80% Quantile: 55.25\n"
     ]
    }
   ],
   "source": [
    "df2['ChurnScore']=0.5*df2['Recency']/df2['Frequency']+50/df2['Period']\n",
    "print(df2['ChurnScore'].describe())\n",
    "print('80% Quantile: '+str(df2['ChurnScore'].quantile(0.8)))"
   ]
  },
  {
   "cell_type": "code",
   "execution_count": 17,
   "id": "7f05a0c4",
   "metadata": {
    "ExecuteTime": {
     "end_time": "2022-03-30T01:40:09.812371Z",
     "start_time": "2022-03-30T01:40:09.805841Z"
    }
   },
   "outputs": [
    {
     "data": {
      "text/plain": [
       "Churn\n",
       "0    11482\n",
       "1     2869\n",
       "Name: Period, dtype: int64"
      ]
     },
     "execution_count": 17,
     "metadata": {},
     "output_type": "execute_result"
    }
   ],
   "source": [
    "df2['Churn']=np.where(df2['ChurnScore']>df2['ChurnScore'].quantile(0.8),1,0) #churned: 1# not churend:0\n",
    "df2.groupby('Churn').agg('count').iloc[:,0]"
   ]
  },
  {
   "cell_type": "code",
   "execution_count": 18,
   "id": "3bfbf45a",
   "metadata": {
    "ExecuteTime": {
     "end_time": "2022-03-30T01:40:10.118993Z",
     "start_time": "2022-03-30T01:40:09.813943Z"
    }
   },
   "outputs": [
    {
     "data": {
      "image/png": "[encoded data removed]",
      "text/plain": [
       "<Figure size 1440x576 with 6 Axes>"
      ]
     },
     "metadata": {
      "needs_background": "light"
     },
     "output_type": "display_data"
    }
   ],
   "source": [
    "#boxplot\n",
    "fig,((ax0,ax1,ax2),(ax3,ax4,ax5)) = plt.subplots(2,3, figsize = (20,8))\n",
    "for i in range(6):\n",
    "    sns.boxplot(x='Churn', y=df2.iloc[:,i], data=df2,ax=name['ax'+str(i)])"
   ]
  },
  {
   "cell_type": "code",
   "execution_count": 19,
   "id": "b0fc86e3",
   "metadata": {
    "ExecuteTime": {
     "end_time": "2022-03-30T01:40:10.136597Z",
     "start_time": "2022-03-30T01:40:10.120032Z"
    }
   },
   "outputs": [
    {
     "data": {
      "text/html": [
       "<div>\n",
       "<style scoped>\n",
       "    .dataframe tbody tr th:only-of-type {\n",
       "        vertical-align: middle;\n",
       "    }\n",
       "\n",
       "    .dataframe tbody tr th {\n",
       "        vertical-align: top;\n",
       "    }\n",
       "\n",
       "    .dataframe thead th {\n",
       "        text-align: right;\n",
       "    }\n",
       "</style>\n",
       "<table border=\"1\" class=\"dataframe\">\n",
       "  <thead>\n",
       "    <tr style=\"text-align: right;\">\n",
       "      <th></th>\n",
       "      <th>Period</th>\n",
       "      <th>Total_Expense</th>\n",
       "      <th>Average_expense_daily</th>\n",
       "      <th>Frequency</th>\n",
       "      <th>Freshness</th>\n",
       "      <th>Recency</th>\n",
       "      <th>label</th>\n",
       "      <th>ChurnScore</th>\n",
       "      <th>Churn</th>\n",
       "    </tr>\n",
       "  </thead>\n",
       "  <tbody>\n",
       "    <tr>\n",
       "      <th>count</th>\n",
       "      <td>2869.000000</td>\n",
       "      <td>2869.000000</td>\n",
       "      <td>2869.000000</td>\n",
       "      <td>2869.000000</td>\n",
       "      <td>2869.000000</td>\n",
       "      <td>2869.000000</td>\n",
       "      <td>2869.000000</td>\n",
       "      <td>2869.000000</td>\n",
       "      <td>2869.0</td>\n",
       "    </tr>\n",
       "    <tr>\n",
       "      <th>mean</th>\n",
       "      <td>14.059603</td>\n",
       "      <td>4636.451941</td>\n",
       "      <td>403.214590</td>\n",
       "      <td>1.935873</td>\n",
       "      <td>335.941094</td>\n",
       "      <td>322.655629</td>\n",
       "      <td>2.083653</td>\n",
       "      <td>126.176998</td>\n",
       "      <td>1.0</td>\n",
       "    </tr>\n",
       "    <tr>\n",
       "      <th>std</th>\n",
       "      <td>43.572391</td>\n",
       "      <td>28907.847904</td>\n",
       "      <td>1252.662174</td>\n",
       "      <td>0.656274</td>\n",
       "      <td>208.863087</td>\n",
       "      <td>199.686216</td>\n",
       "      <td>1.017271</td>\n",
       "      <td>65.820632</td>\n",
       "      <td>0.0</td>\n",
       "    </tr>\n",
       "    <tr>\n",
       "      <th>min</th>\n",
       "      <td>1.000000</td>\n",
       "      <td>2.090000</td>\n",
       "      <td>2.060000</td>\n",
       "      <td>1.000000</td>\n",
       "      <td>15.000000</td>\n",
       "      <td>14.000000</td>\n",
       "      <td>0.000000</td>\n",
       "      <td>55.281411</td>\n",
       "      <td>1.0</td>\n",
       "    </tr>\n",
       "    <tr>\n",
       "      <th>25%</th>\n",
       "      <td>1.000000</td>\n",
       "      <td>123.250000</td>\n",
       "      <td>52.990000</td>\n",
       "      <td>1.500000</td>\n",
       "      <td>154.000000</td>\n",
       "      <td>153.000000</td>\n",
       "      <td>1.000000</td>\n",
       "      <td>74.750000</td>\n",
       "      <td>1.0</td>\n",
       "    </tr>\n",
       "    <tr>\n",
       "      <th>50%</th>\n",
       "      <td>1.000000</td>\n",
       "      <td>366.730000</td>\n",
       "      <td>106.335000</td>\n",
       "      <td>2.000000</td>\n",
       "      <td>317.000000</td>\n",
       "      <td>302.000000</td>\n",
       "      <td>3.000000</td>\n",
       "      <td>106.442308</td>\n",
       "      <td>1.0</td>\n",
       "    </tr>\n",
       "    <tr>\n",
       "      <th>75%</th>\n",
       "      <td>5.000000</td>\n",
       "      <td>1633.150000</td>\n",
       "      <td>269.460000</td>\n",
       "      <td>2.000000</td>\n",
       "      <td>514.000000</td>\n",
       "      <td>490.000000</td>\n",
       "      <td>3.000000</td>\n",
       "      <td>160.666667</td>\n",
       "      <td>1.0</td>\n",
       "    </tr>\n",
       "    <tr>\n",
       "      <th>max</th>\n",
       "      <td>455.000000</td>\n",
       "      <td>957098.710000</td>\n",
       "      <td>40475.210000</td>\n",
       "      <td>6.500000</td>\n",
       "      <td>730.000000</td>\n",
       "      <td>729.000000</td>\n",
       "      <td>5.000000</td>\n",
       "      <td>396.634615</td>\n",
       "      <td>1.0</td>\n",
       "    </tr>\n",
       "  </tbody>\n",
       "</table>\n",
       "</div>"
      ],
      "text/plain": [
       "            Period  Total_Expense  Average_expense_daily    Frequency  \\\n",
       "count  2869.000000    2869.000000            2869.000000  2869.000000   \n",
       "mean     14.059603    4636.451941             403.214590     1.935873   \n",
       "std      43.572391   28907.847904            1252.662174     0.656274   \n",
       "min       1.000000       2.090000               2.060000     1.000000   \n",
       "25%       1.000000     123.250000              52.990000     1.500000   \n",
       "50%       1.000000     366.730000             106.335000     2.000000   \n",
       "75%       5.000000    1633.150000             269.460000     2.000000   \n",
       "max     455.000000  957098.710000           40475.210000     6.500000   \n",
       "\n",
       "         Freshness      Recency        label   ChurnScore   Churn  \n",
       "count  2869.000000  2869.000000  2869.000000  2869.000000  2869.0  \n",
       "mean    335.941094   322.655629     2.083653   126.176998     1.0  \n",
       "std     208.863087   199.686216     1.017271    65.820632     0.0  \n",
       "min      15.000000    14.000000     0.000000    55.281411     1.0  \n",
       "25%     154.000000   153.000000     1.000000    74.750000     1.0  \n",
       "50%     317.000000   302.000000     3.000000   106.442308     1.0  \n",
       "75%     514.000000   490.000000     3.000000   160.666667     1.0  \n",
       "max     730.000000   729.000000     5.000000   396.634615     1.0  "
      ]
     },
     "execution_count": 19,
     "metadata": {},
     "output_type": "execute_result"
    }
   ],
   "source": [
    "# the churned merchant\n",
    "df2[df2['Churn']==1].describe()"
   ]
  },
  {
   "cell_type": "code",
   "execution_count": 20,
   "id": "0d3e72d8",
   "metadata": {
    "ExecuteTime": {
     "end_time": "2022-03-30T01:40:10.172500Z",
     "start_time": "2022-03-30T01:40:10.137692Z"
    }
   },
   "outputs": [
    {
     "data": {
      "text/plain": [
       "label\n",
       "0       3\n",
       "1    6786\n",
       "2     957\n",
       "3    2723\n",
       "4     116\n",
       "5    3766\n",
       "Name: Total_Expense, dtype: int64"
      ]
     },
     "execution_count": 20,
     "metadata": {},
     "output_type": "execute_result"
    }
   ],
   "source": [
    "df2.groupby('label').agg('count').iloc[:,1]"
   ]
  },
  {
   "cell_type": "code",
   "execution_count": 21,
   "id": "87daba63",
   "metadata": {
    "ExecuteTime": {
     "end_time": "2022-03-30T01:40:10.183111Z",
     "start_time": "2022-03-30T01:40:10.177130Z"
    }
   },
   "outputs": [
    {
     "data": {
      "text/plain": [
       "label\n",
       "0       1\n",
       "1    1328\n",
       "3    1523\n",
       "4       4\n",
       "5      13\n",
       "Name: Total_Expense, dtype: int64"
      ]
     },
     "execution_count": 21,
     "metadata": {},
     "output_type": "execute_result"
    }
   ],
   "source": [
    "df2[df2['Churn']==1].groupby('label').agg('count').iloc[:,1]"
   ]
  },
  {
   "cell_type": "markdown",
   "id": "83cdee69",
   "metadata": {},
   "source": [
    "# Build up the churn model"
   ]
  },
  {
   "cell_type": "code",
   "execution_count": 22,
   "id": "dc4aabb8",
   "metadata": {
    "ExecuteTime": {
     "end_time": "2022-03-30T01:40:10.199219Z",
     "start_time": "2022-03-30T01:40:10.188110Z"
    }
   },
   "outputs": [],
   "source": [
    "# get dummy variables for \"label\" ----> the type we got from the previous segmentation\n",
    "df2['label']=df2['label'].astype('category')\n",
    "df_dummies = pd.get_dummies(df2)\n",
    "X=df_dummies.drop(columns=['Churn','ChurnScore']).copy()\n",
    "y=df_dummies['Churn'].copy()"
   ]
  },
  {
   "cell_type": "code",
   "execution_count": 23,
   "id": "9db9c59a",
   "metadata": {
    "ExecuteTime": {
     "end_time": "2022-03-30T01:40:10.225136Z",
     "start_time": "2022-03-30T01:40:10.200617Z"
    }
   },
   "outputs": [
    {
     "name": "stdout",
     "output_type": "stream",
     "text": [
      "(14351, 12) (14351,)\n",
      "(22964, 12) (22964,)\n"
     ]
    }
   ],
   "source": [
    "# upsampling the \"churn\" class\n",
    "oversample = SMOTE()\n",
    "X_os, y_os = oversample.fit_resample(X, y)\n",
    "print(X.shape, y.shape)\n",
    "print(X_os.shape, y_os.shape)"
   ]
  },
  {
   "cell_type": "code",
   "execution_count": 24,
   "id": "03998bdd",
   "metadata": {
    "ExecuteTime": {
     "end_time": "2022-03-30T01:40:10.241232Z",
     "start_time": "2022-03-30T01:40:10.226131Z"
    }
   },
   "outputs": [
    {
     "data": {
      "text/html": [
       "<div>\n",
       "<style scoped>\n",
       "    .dataframe tbody tr th:only-of-type {\n",
       "        vertical-align: middle;\n",
       "    }\n",
       "\n",
       "    .dataframe tbody tr th {\n",
       "        vertical-align: top;\n",
       "    }\n",
       "\n",
       "    .dataframe thead th {\n",
       "        text-align: right;\n",
       "    }\n",
       "</style>\n",
       "<table border=\"1\" class=\"dataframe\">\n",
       "  <thead>\n",
       "    <tr style=\"text-align: right;\">\n",
       "      <th></th>\n",
       "      <th>Period</th>\n",
       "      <th>Total_Contribution</th>\n",
       "      <th>Contribution_Ability</th>\n",
       "      <th>Fequency</th>\n",
       "      <th>Freshness</th>\n",
       "      <th>Recency</th>\n",
       "      <th>label_0</th>\n",
       "      <th>label_1</th>\n",
       "      <th>label_2</th>\n",
       "      <th>label_3</th>\n",
       "      <th>label_4</th>\n",
       "      <th>label_5</th>\n",
       "    </tr>\n",
       "  </thead>\n",
       "  <tbody>\n",
       "    <tr>\n",
       "      <th>0</th>\n",
       "      <td>-0.978590</td>\n",
       "      <td>-0.253427</td>\n",
       "      <td>-0.245387</td>\n",
       "      <td>-0.548364</td>\n",
       "      <td>1.250755</td>\n",
       "      <td>2.619243</td>\n",
       "      <td>-0.01446</td>\n",
       "      <td>-0.947114</td>\n",
       "      <td>-0.267301</td>\n",
       "      <td>2.066468</td>\n",
       "      <td>-0.090271</td>\n",
       "      <td>-0.596478</td>\n",
       "    </tr>\n",
       "    <tr>\n",
       "      <th>1</th>\n",
       "      <td>-0.664622</td>\n",
       "      <td>-0.240071</td>\n",
       "      <td>-0.111545</td>\n",
       "      <td>0.076323</td>\n",
       "      <td>-1.244733</td>\n",
       "      <td>-0.693219</td>\n",
       "      <td>-0.01446</td>\n",
       "      <td>1.055839</td>\n",
       "      <td>-0.267301</td>\n",
       "      <td>-0.483917</td>\n",
       "      <td>-0.090271</td>\n",
       "      <td>-0.596478</td>\n",
       "    </tr>\n",
       "    <tr>\n",
       "      <th>2</th>\n",
       "      <td>-0.654811</td>\n",
       "      <td>-0.249362</td>\n",
       "      <td>-0.261814</td>\n",
       "      <td>-0.491303</td>\n",
       "      <td>1.182652</td>\n",
       "      <td>2.160770</td>\n",
       "      <td>-0.01446</td>\n",
       "      <td>-0.947114</td>\n",
       "      <td>-0.267301</td>\n",
       "      <td>2.066468</td>\n",
       "      <td>-0.090271</td>\n",
       "      <td>-0.596478</td>\n",
       "    </tr>\n",
       "    <tr>\n",
       "      <th>3</th>\n",
       "      <td>-0.978590</td>\n",
       "      <td>-0.252736</td>\n",
       "      <td>-0.213962</td>\n",
       "      <td>-0.548364</td>\n",
       "      <td>0.837273</td>\n",
       "      <td>2.132116</td>\n",
       "      <td>-0.01446</td>\n",
       "      <td>-0.947114</td>\n",
       "      <td>-0.267301</td>\n",
       "      <td>2.066468</td>\n",
       "      <td>-0.090271</td>\n",
       "      <td>-0.596478</td>\n",
       "    </tr>\n",
       "    <tr>\n",
       "      <th>4</th>\n",
       "      <td>-0.978590</td>\n",
       "      <td>-0.252351</td>\n",
       "      <td>-0.196487</td>\n",
       "      <td>-0.548364</td>\n",
       "      <td>1.168059</td>\n",
       "      <td>2.521817</td>\n",
       "      <td>-0.01446</td>\n",
       "      <td>-0.947114</td>\n",
       "      <td>-0.267301</td>\n",
       "      <td>2.066468</td>\n",
       "      <td>-0.090271</td>\n",
       "      <td>-0.596478</td>\n",
       "    </tr>\n",
       "    <tr>\n",
       "      <th>...</th>\n",
       "      <td>...</td>\n",
       "      <td>...</td>\n",
       "      <td>...</td>\n",
       "      <td>...</td>\n",
       "      <td>...</td>\n",
       "      <td>...</td>\n",
       "      <td>...</td>\n",
       "      <td>...</td>\n",
       "      <td>...</td>\n",
       "      <td>...</td>\n",
       "      <td>...</td>\n",
       "      <td>...</td>\n",
       "    </tr>\n",
       "    <tr>\n",
       "      <th>22959</th>\n",
       "      <td>-0.929533</td>\n",
       "      <td>-0.244347</td>\n",
       "      <td>-0.246146</td>\n",
       "      <td>-0.561502</td>\n",
       "      <td>1.289671</td>\n",
       "      <td>2.602050</td>\n",
       "      <td>-0.01446</td>\n",
       "      <td>-0.947114</td>\n",
       "      <td>-0.267301</td>\n",
       "      <td>2.066468</td>\n",
       "      <td>-0.090271</td>\n",
       "      <td>-0.596478</td>\n",
       "    </tr>\n",
       "    <tr>\n",
       "      <th>22960</th>\n",
       "      <td>-0.836324</td>\n",
       "      <td>-0.223751</td>\n",
       "      <td>-0.226838</td>\n",
       "      <td>-0.549707</td>\n",
       "      <td>0.321636</td>\n",
       "      <td>1.352713</td>\n",
       "      <td>-0.01446</td>\n",
       "      <td>-0.947114</td>\n",
       "      <td>-0.267301</td>\n",
       "      <td>2.066468</td>\n",
       "      <td>-0.090271</td>\n",
       "      <td>-0.596478</td>\n",
       "    </tr>\n",
       "    <tr>\n",
       "      <th>22961</th>\n",
       "      <td>-0.978590</td>\n",
       "      <td>-0.249131</td>\n",
       "      <td>-0.159695</td>\n",
       "      <td>-0.568846</td>\n",
       "      <td>-1.264191</td>\n",
       "      <td>-0.343634</td>\n",
       "      <td>-0.01446</td>\n",
       "      <td>1.055839</td>\n",
       "      <td>-0.267301</td>\n",
       "      <td>-0.483917</td>\n",
       "      <td>-0.090271</td>\n",
       "      <td>-0.596478</td>\n",
       "    </tr>\n",
       "    <tr>\n",
       "      <th>22962</th>\n",
       "      <td>-0.978590</td>\n",
       "      <td>-0.250856</td>\n",
       "      <td>-0.128544</td>\n",
       "      <td>-0.548364</td>\n",
       "      <td>0.598912</td>\n",
       "      <td>1.851302</td>\n",
       "      <td>-0.01446</td>\n",
       "      <td>-0.947114</td>\n",
       "      <td>-0.267301</td>\n",
       "      <td>2.066468</td>\n",
       "      <td>-0.090271</td>\n",
       "      <td>-0.596478</td>\n",
       "    </tr>\n",
       "    <tr>\n",
       "      <th>22963</th>\n",
       "      <td>-0.949156</td>\n",
       "      <td>-0.253422</td>\n",
       "      <td>-0.257639</td>\n",
       "      <td>-0.445677</td>\n",
       "      <td>1.469658</td>\n",
       "      <td>2.831286</td>\n",
       "      <td>-0.01446</td>\n",
       "      <td>-0.947114</td>\n",
       "      <td>-0.267301</td>\n",
       "      <td>2.066468</td>\n",
       "      <td>-0.090271</td>\n",
       "      <td>-0.596478</td>\n",
       "    </tr>\n",
       "  </tbody>\n",
       "</table>\n",
       "<p>22964 rows × 12 columns</p>\n",
       "</div>"
      ],
      "text/plain": [
       "         Period  Total_Contribution  Contribution_Ability  Fequency  \\\n",
       "0     -0.978590           -0.253427             -0.245387 -0.548364   \n",
       "1     -0.664622           -0.240071             -0.111545  0.076323   \n",
       "2     -0.654811           -0.249362             -0.261814 -0.491303   \n",
       "3     -0.978590           -0.252736             -0.213962 -0.548364   \n",
       "4     -0.978590           -0.252351             -0.196487 -0.548364   \n",
       "...         ...                 ...                   ...       ...   \n",
       "22959 -0.929533           -0.244347             -0.246146 -0.561502   \n",
       "22960 -0.836324           -0.223751             -0.226838 -0.549707   \n",
       "22961 -0.978590           -0.249131             -0.159695 -0.568846   \n",
       "22962 -0.978590           -0.250856             -0.128544 -0.548364   \n",
       "22963 -0.949156           -0.253422             -0.257639 -0.445677   \n",
       "\n",
       "       Freshness   Recency  label_0   label_1   label_2   label_3   label_4  \\\n",
       "0       1.250755  2.619243 -0.01446 -0.947114 -0.267301  2.066468 -0.090271   \n",
       "1      -1.244733 -0.693219 -0.01446  1.055839 -0.267301 -0.483917 -0.090271   \n",
       "2       1.182652  2.160770 -0.01446 -0.947114 -0.267301  2.066468 -0.090271   \n",
       "3       0.837273  2.132116 -0.01446 -0.947114 -0.267301  2.066468 -0.090271   \n",
       "4       1.168059  2.521817 -0.01446 -0.947114 -0.267301  2.066468 -0.090271   \n",
       "...          ...       ...      ...       ...       ...       ...       ...   \n",
       "22959   1.289671  2.602050 -0.01446 -0.947114 -0.267301  2.066468 -0.090271   \n",
       "22960   0.321636  1.352713 -0.01446 -0.947114 -0.267301  2.066468 -0.090271   \n",
       "22961  -1.264191 -0.343634 -0.01446  1.055839 -0.267301 -0.483917 -0.090271   \n",
       "22962   0.598912  1.851302 -0.01446 -0.947114 -0.267301  2.066468 -0.090271   \n",
       "22963   1.469658  2.831286 -0.01446 -0.947114 -0.267301  2.066468 -0.090271   \n",
       "\n",
       "        label_5  \n",
       "0     -0.596478  \n",
       "1     -0.596478  \n",
       "2     -0.596478  \n",
       "3     -0.596478  \n",
       "4     -0.596478  \n",
       "...         ...  \n",
       "22959 -0.596478  \n",
       "22960 -0.596478  \n",
       "22961 -0.596478  \n",
       "22962 -0.596478  \n",
       "22963 -0.596478  \n",
       "\n",
       "[22964 rows x 12 columns]"
      ]
     },
     "execution_count": 24,
     "metadata": {},
     "output_type": "execute_result"
    }
   ],
   "source": [
    "# scale the data\n",
    "scale2=StandardScaler()\n",
    "scale2.fit(X)\n",
    "X_scale=scale2.transform(X_os)\n",
    "\n",
    "dfXscale=pd.DataFrame(X_scale,columns=['Period','Total_Contribution','Contribution_Ability',\n",
    "                                          'Fequency','Freshness','Recency',\n",
    "                                          'label_0','label_1','label_2','label_3','label_4','label_5'])\n",
    "dfXscale"
   ]
  },
  {
   "cell_type": "code",
   "execution_count": 25,
   "id": "7b05b427",
   "metadata": {
    "ExecuteTime": {
     "end_time": "2022-03-30T01:40:10.247669Z",
     "start_time": "2022-03-30T01:40:10.242255Z"
    }
   },
   "outputs": [],
   "source": [
    "# split train and test set\n",
    "X_train,X_test, y_train, y_test=train_test_split(dfXscale, y_os,test_size=0.3,random_state=42)"
   ]
  },
  {
   "cell_type": "code",
   "execution_count": 26,
   "id": "13eb0e5e",
   "metadata": {
    "ExecuteTime": {
     "end_time": "2022-03-30T01:43:10.525821Z",
     "start_time": "2022-03-30T01:40:10.248746Z"
    }
   },
   "outputs": [
    {
     "name": "stdout",
     "output_type": "stream",
     "text": [
      "Best Accuracy Score = 0.9928148500482858\n",
      "Best Parameters = {'max_depth': 5, 'n_estimators': 100}\n"
     ]
    }
   ],
   "source": [
    "# Random Forest ---- tuning the parameters\n",
    "para_RF={'max_depth':range(2,6),'n_estimators':[100,300,500]}\n",
    "scoring = 'accuracy'\n",
    "RFmodel = RandomForestClassifier(max_features=6)\n",
    "\n",
    "RFgrid=GridSearchCV(RFmodel, param_grid=para_RF, cv=5, scoring=scoring)\n",
    "RFgrid.fit(X_os, y_os)\n",
    "\n",
    "print('Best Accuracy Score = '+str(RFgrid.best_score_))\n",
    "print('Best Parameters = '+str(RFgrid.best_params_))"
   ]
  },
  {
   "cell_type": "code",
   "execution_count": 27,
   "id": "cc5c34db",
   "metadata": {
    "ExecuteTime": {
     "end_time": "2022-03-30T01:43:13.939906Z",
     "start_time": "2022-03-30T01:43:10.526846Z"
    }
   },
   "outputs": [
    {
     "name": "stdout",
     "output_type": "stream",
     "text": [
      "              precision    recall  f1-score   support\n",
      "\n",
      "           0    0.99528   0.98081   0.98799      3439\n",
      "           1    0.98115   0.99536   0.98820      3451\n",
      "\n",
      "    accuracy                        0.98810      6890\n",
      "   macro avg    0.98821   0.98809   0.98810      6890\n",
      "weighted avg    0.98820   0.98810   0.98810      6890\n",
      "\n",
      "col_0     0     1\n",
      "Churn            \n",
      "0      3373    66\n",
      "1        16  3435\n"
     ]
    }
   ],
   "source": [
    "# Random Forest ---- Select the best parameters and calculate the test score\n",
    "RFmodel = RandomForestClassifier(max_depth=5, n_estimators=500)\n",
    "RFmodel.fit(X_train, y_train)\n",
    "RF_pred=RFmodel.predict(X_test)\n",
    "print(classification_report(y_test, RF_pred, digits=5))\n",
    "print(pd.crosstab(y_test, RF_pred))"
   ]
  },
  {
   "cell_type": "code",
   "execution_count": 28,
   "id": "99dd5e4e",
   "metadata": {
    "ExecuteTime": {
     "end_time": "2022-03-30T01:56:25.813532Z",
     "start_time": "2022-03-30T01:43:13.940864Z"
    }
   },
   "outputs": [
    {
     "name": "stdout",
     "output_type": "stream",
     "text": [
      "Best Accuracy Score = 0.9981274716638179\n",
      "Best Accuracy Score = {'learning_rate': 0.2, 'max_depth': 2, 'n_estimators': 500}\n"
     ]
    }
   ],
   "source": [
    "# XGBoost ---- tuning the parameters\n",
    "para_XGB={'max_depth':range(2,6),\n",
    "         'n_estimators': [100,300,500],\n",
    "         'learning_rate': [0.01,0.05,0.1,0.2]}\n",
    "scoring = 'accuracy'\n",
    "XGBmodel = XGBClassifier(eval_metric='logloss')\n",
    "\n",
    "XGBgrid=GridSearchCV(XGBmodel, param_grid=para_XGB, cv=5, scoring=scoring)\n",
    "XGBgrid.fit(X_os, y_os)\n",
    "\n",
    "print('Best Accuracy Score = '+str(XGBgrid.best_score_))\n",
    "print('Best Accuracy Score = '+str(XGBgrid.best_params_))"
   ]
  },
  {
   "cell_type": "code",
   "execution_count": 29,
   "id": "0c76a2a6",
   "metadata": {
    "ExecuteTime": {
     "end_time": "2022-03-30T01:56:28.386636Z",
     "start_time": "2022-03-30T01:56:25.815839Z"
    }
   },
   "outputs": [
    {
     "name": "stdout",
     "output_type": "stream",
     "text": [
      "              precision    recall  f1-score   support\n",
      "\n",
      "           0    0.99709   0.99767   0.99738      3439\n",
      "           1    0.99768   0.99710   0.99739      3451\n",
      "\n",
      "    accuracy                        0.99739      6890\n",
      "   macro avg    0.99739   0.99739   0.99739      6890\n",
      "weighted avg    0.99739   0.99739   0.99739      6890\n",
      "\n",
      "col_0     0     1\n",
      "Churn            \n",
      "0      3431     8\n",
      "1        10  3441\n"
     ]
    }
   ],
   "source": [
    "# XGBoost ---- Select the best parameters and calculate the test score\n",
    "XGBmodel = XGBClassifier(max_depth=3, n_estimators=500, learning_rate=0.2, eval_metric='logloss')\n",
    "XGBmodel.fit(X_train, y_train)\n",
    "XGB_pred=XGBmodel.predict(X_test)\n",
    "print(classification_report(y_test, XGB_pred, digits=5))\n",
    "print(pd.crosstab(y_test, XGB_pred))"
   ]
  },
  {
   "cell_type": "markdown",
   "id": "ca1de52a",
   "metadata": {},
   "source": [
    "### Model Conclusions: According to the \"Accuracy\", \"Recall\", \"Precision\" above, we choose the XGBoost model\n",
    "  a) If we just want to try our best to identtify as much as possible churned merchants and do not care about other factors(i.e. cost), we may need to select the model with the highest \"Recall\".\n",
    "  \n",
    "  b) If the cost of saving a merchant is very high or the way we saving a merchant may affect other merchants' interest(i.e. sending too much subscribtion emails), we may need to select the model with higher \"Precision\"."
   ]
  },
  {
   "cell_type": "markdown",
   "id": "f6d9bb27",
   "metadata": {},
   "source": [
    "# make a perdiction on unchurned merchant"
   ]
  },
  {
   "cell_type": "code",
   "execution_count": 30,
   "id": "0469043d",
   "metadata": {
    "ExecuteTime": {
     "end_time": "2022-03-30T01:56:28.404690Z",
     "start_time": "2022-03-30T01:56:28.387677Z"
    }
   },
   "outputs": [
    {
     "data": {
      "text/html": [
       "<div>\n",
       "<style scoped>\n",
       "    .dataframe tbody tr th:only-of-type {\n",
       "        vertical-align: middle;\n",
       "    }\n",
       "\n",
       "    .dataframe tbody tr th {\n",
       "        vertical-align: top;\n",
       "    }\n",
       "\n",
       "    .dataframe thead th {\n",
       "        text-align: right;\n",
       "    }\n",
       "</style>\n",
       "<table border=\"1\" class=\"dataframe\">\n",
       "  <thead>\n",
       "    <tr style=\"text-align: right;\">\n",
       "      <th></th>\n",
       "      <th>Period</th>\n",
       "      <th>Total_Expense</th>\n",
       "      <th>Average_expense_daily</th>\n",
       "      <th>Frequency</th>\n",
       "      <th>Freshness</th>\n",
       "      <th>Recency</th>\n",
       "      <th>label</th>\n",
       "      <th>ChurnScore</th>\n",
       "      <th>Churn</th>\n",
       "    </tr>\n",
       "    <tr>\n",
       "      <th>merchant</th>\n",
       "      <th></th>\n",
       "      <th></th>\n",
       "      <th></th>\n",
       "      <th></th>\n",
       "      <th></th>\n",
       "      <th></th>\n",
       "      <th></th>\n",
       "      <th></th>\n",
       "      <th></th>\n",
       "    </tr>\n",
       "  </thead>\n",
       "  <tbody>\n",
       "    <tr>\n",
       "      <th>0002d07bba</th>\n",
       "      <td>65</td>\n",
       "      <td>892.78</td>\n",
       "      <td>223.195000</td>\n",
       "      <td>17.250</td>\n",
       "      <td>82</td>\n",
       "      <td>17</td>\n",
       "      <td>1</td>\n",
       "      <td>1.261984</td>\n",
       "      <td>0</td>\n",
       "    </tr>\n",
       "    <tr>\n",
       "      <th>000ed1585f</th>\n",
       "      <td>657</td>\n",
       "      <td>16472.67</td>\n",
       "      <td>265.688226</td>\n",
       "      <td>11.597</td>\n",
       "      <td>682</td>\n",
       "      <td>26</td>\n",
       "      <td>5</td>\n",
       "      <td>1.197083</td>\n",
       "      <td>0</td>\n",
       "    </tr>\n",
       "    <tr>\n",
       "      <th>000f8c3297</th>\n",
       "      <td>457</td>\n",
       "      <td>34551.91</td>\n",
       "      <td>119.144517</td>\n",
       "      <td>2.576</td>\n",
       "      <td>459</td>\n",
       "      <td>2</td>\n",
       "      <td>5</td>\n",
       "      <td>0.497608</td>\n",
       "      <td>0</td>\n",
       "    </tr>\n",
       "    <tr>\n",
       "      <th>0020aefbd9</th>\n",
       "      <td>23</td>\n",
       "      <td>130.04</td>\n",
       "      <td>65.020000</td>\n",
       "      <td>12.500</td>\n",
       "      <td>216</td>\n",
       "      <td>193</td>\n",
       "      <td>1</td>\n",
       "      <td>9.893913</td>\n",
       "      <td>0</td>\n",
       "    </tr>\n",
       "    <tr>\n",
       "      <th>0026f256ac</th>\n",
       "      <td>89</td>\n",
       "      <td>2508.78</td>\n",
       "      <td>313.597500</td>\n",
       "      <td>12.125</td>\n",
       "      <td>562</td>\n",
       "      <td>473</td>\n",
       "      <td>3</td>\n",
       "      <td>20.066952</td>\n",
       "      <td>0</td>\n",
       "    </tr>\n",
       "    <tr>\n",
       "      <th>...</th>\n",
       "      <td>...</td>\n",
       "      <td>...</td>\n",
       "      <td>...</td>\n",
       "      <td>...</td>\n",
       "      <td>...</td>\n",
       "      <td>...</td>\n",
       "      <td>...</td>\n",
       "      <td>...</td>\n",
       "      <td>...</td>\n",
       "    </tr>\n",
       "    <tr>\n",
       "      <th>ffd3284f86</th>\n",
       "      <td>14</td>\n",
       "      <td>805.86</td>\n",
       "      <td>80.586000</td>\n",
       "      <td>2.400</td>\n",
       "      <td>15</td>\n",
       "      <td>2</td>\n",
       "      <td>1</td>\n",
       "      <td>3.988095</td>\n",
       "      <td>0</td>\n",
       "    </tr>\n",
       "    <tr>\n",
       "      <th>ffe1f6b51a</th>\n",
       "      <td>261</td>\n",
       "      <td>2816.16</td>\n",
       "      <td>53.135094</td>\n",
       "      <td>5.925</td>\n",
       "      <td>576</td>\n",
       "      <td>316</td>\n",
       "      <td>3</td>\n",
       "      <td>26.858238</td>\n",
       "      <td>0</td>\n",
       "    </tr>\n",
       "    <tr>\n",
       "      <th>ffe26b900d</th>\n",
       "      <td>335</td>\n",
       "      <td>9591.13</td>\n",
       "      <td>118.409012</td>\n",
       "      <td>5.136</td>\n",
       "      <td>375</td>\n",
       "      <td>41</td>\n",
       "      <td>5</td>\n",
       "      <td>4.140687</td>\n",
       "      <td>0</td>\n",
       "    </tr>\n",
       "    <tr>\n",
       "      <th>ffec05edb9</th>\n",
       "      <td>21</td>\n",
       "      <td>159.34</td>\n",
       "      <td>53.113333</td>\n",
       "      <td>8.000</td>\n",
       "      <td>341</td>\n",
       "      <td>321</td>\n",
       "      <td>3</td>\n",
       "      <td>22.443452</td>\n",
       "      <td>0</td>\n",
       "    </tr>\n",
       "    <tr>\n",
       "      <th>fff1754102</th>\n",
       "      <td>505</td>\n",
       "      <td>5336.95</td>\n",
       "      <td>116.020652</td>\n",
       "      <td>11.978</td>\n",
       "      <td>511</td>\n",
       "      <td>7</td>\n",
       "      <td>5</td>\n",
       "      <td>0.391212</td>\n",
       "      <td>0</td>\n",
       "    </tr>\n",
       "  </tbody>\n",
       "</table>\n",
       "<p>11482 rows × 9 columns</p>\n",
       "</div>"
      ],
      "text/plain": [
       "            Period  Total_Expense  Average_expense_daily  Frequency  \\\n",
       "merchant                                                              \n",
       "0002d07bba      65         892.78             223.195000     17.250   \n",
       "000ed1585f     657       16472.67             265.688226     11.597   \n",
       "000f8c3297     457       34551.91             119.144517      2.576   \n",
       "0020aefbd9      23         130.04              65.020000     12.500   \n",
       "0026f256ac      89        2508.78             313.597500     12.125   \n",
       "...            ...            ...                    ...        ...   \n",
       "ffd3284f86      14         805.86              80.586000      2.400   \n",
       "ffe1f6b51a     261        2816.16              53.135094      5.925   \n",
       "ffe26b900d     335        9591.13             118.409012      5.136   \n",
       "ffec05edb9      21         159.34              53.113333      8.000   \n",
       "fff1754102     505        5336.95             116.020652     11.978   \n",
       "\n",
       "            Freshness  Recency label  ChurnScore  Churn  \n",
       "merchant                                                 \n",
       "0002d07bba         82       17     1    1.261984      0  \n",
       "000ed1585f        682       26     5    1.197083      0  \n",
       "000f8c3297        459        2     5    0.497608      0  \n",
       "0020aefbd9        216      193     1    9.893913      0  \n",
       "0026f256ac        562      473     3   20.066952      0  \n",
       "...               ...      ...   ...         ...    ...  \n",
       "ffd3284f86         15        2     1    3.988095      0  \n",
       "ffe1f6b51a        576      316     3   26.858238      0  \n",
       "ffe26b900d        375       41     5    4.140687      0  \n",
       "ffec05edb9        341      321     3   22.443452      0  \n",
       "fff1754102        511        7     5    0.391212      0  \n",
       "\n",
       "[11482 rows x 9 columns]"
      ]
     },
     "execution_count": 30,
     "metadata": {},
     "output_type": "execute_result"
    }
   ],
   "source": [
    "# extract active merchants\n",
    "df_act=df2[df2['Churn']==0]\n",
    "df_act"
   ]
  },
  {
   "cell_type": "code",
   "execution_count": 31,
   "id": "6bee53ff",
   "metadata": {
    "ExecuteTime": {
     "end_time": "2022-03-30T01:56:28.415899Z",
     "start_time": "2022-03-30T01:56:28.407767Z"
    }
   },
   "outputs": [],
   "source": [
    "# get dummise for \"label\"\n",
    "act_df_dummies = pd.get_dummies(df_act)\n",
    "X_act=act_df_dummies.drop(columns=['Churn','ChurnScore']).copy()\n",
    "y_act=act_df_dummies['Churn'].copy()"
   ]
  },
  {
   "cell_type": "code",
   "execution_count": 32,
   "id": "cbe2d982",
   "metadata": {
    "ExecuteTime": {
     "end_time": "2022-03-30T01:56:28.423753Z",
     "start_time": "2022-03-30T01:56:28.417257Z"
    }
   },
   "outputs": [],
   "source": [
    "# scale the data\n",
    "scale3=StandardScaler()\n",
    "scale3.fit(X_act)\n",
    "X_scale_act=scale2.transform(X_act)"
   ]
  },
  {
   "cell_type": "code",
   "execution_count": 33,
   "id": "4295f09a",
   "metadata": {
    "ExecuteTime": {
     "end_time": "2022-03-30T01:56:28.670570Z",
     "start_time": "2022-03-30T01:56:28.426323Z"
    }
   },
   "outputs": [
    {
     "data": {
      "text/html": [
       "<div>\n",
       "<style scoped>\n",
       "    .dataframe tbody tr th:only-of-type {\n",
       "        vertical-align: middle;\n",
       "    }\n",
       "\n",
       "    .dataframe tbody tr th {\n",
       "        vertical-align: top;\n",
       "    }\n",
       "\n",
       "    .dataframe thead th {\n",
       "        text-align: right;\n",
       "    }\n",
       "</style>\n",
       "<table border=\"1\" class=\"dataframe\">\n",
       "  <thead>\n",
       "    <tr style=\"text-align: right;\">\n",
       "      <th></th>\n",
       "      <th>Period</th>\n",
       "      <th>Total_Expense</th>\n",
       "      <th>Average_expense_daily</th>\n",
       "      <th>Frequency</th>\n",
       "      <th>Freshness</th>\n",
       "      <th>Recency</th>\n",
       "      <th>label</th>\n",
       "      <th>ChurnScore</th>\n",
       "      <th>Churn</th>\n",
       "      <th>Predict</th>\n",
       "    </tr>\n",
       "    <tr>\n",
       "      <th>merchant</th>\n",
       "      <th></th>\n",
       "      <th></th>\n",
       "      <th></th>\n",
       "      <th></th>\n",
       "      <th></th>\n",
       "      <th></th>\n",
       "      <th></th>\n",
       "      <th></th>\n",
       "      <th></th>\n",
       "      <th></th>\n",
       "    </tr>\n",
       "  </thead>\n",
       "  <tbody>\n",
       "    <tr>\n",
       "      <th>09689dc3f0</th>\n",
       "      <td>69</td>\n",
       "      <td>1358.78</td>\n",
       "      <td>67.939000</td>\n",
       "      <td>4.450</td>\n",
       "      <td>550</td>\n",
       "      <td>482</td>\n",
       "      <td>3</td>\n",
       "      <td>54.881941</td>\n",
       "      <td>0</td>\n",
       "      <td>1</td>\n",
       "    </tr>\n",
       "    <tr>\n",
       "      <th>5519880667</th>\n",
       "      <td>17</td>\n",
       "      <td>11474.52</td>\n",
       "      <td>1434.315000</td>\n",
       "      <td>3.125</td>\n",
       "      <td>339</td>\n",
       "      <td>322</td>\n",
       "      <td>3</td>\n",
       "      <td>54.461176</td>\n",
       "      <td>0</td>\n",
       "      <td>1</td>\n",
       "    </tr>\n",
       "    <tr>\n",
       "      <th>77586d88d9</th>\n",
       "      <td>8</td>\n",
       "      <td>8457.55</td>\n",
       "      <td>291.639655</td>\n",
       "      <td>1.276</td>\n",
       "      <td>122</td>\n",
       "      <td>115</td>\n",
       "      <td>1</td>\n",
       "      <td>51.312696</td>\n",
       "      <td>0</td>\n",
       "      <td>1</td>\n",
       "    </tr>\n",
       "    <tr>\n",
       "      <th>826d94dbc5</th>\n",
       "      <td>20</td>\n",
       "      <td>568.31</td>\n",
       "      <td>71.038750</td>\n",
       "      <td>3.500</td>\n",
       "      <td>356</td>\n",
       "      <td>337</td>\n",
       "      <td>3</td>\n",
       "      <td>50.642857</td>\n",
       "      <td>0</td>\n",
       "      <td>1</td>\n",
       "    </tr>\n",
       "    <tr>\n",
       "      <th>9f0508694f</th>\n",
       "      <td>30</td>\n",
       "      <td>4947.91</td>\n",
       "      <td>72.763382</td>\n",
       "      <td>1.441</td>\n",
       "      <td>178</td>\n",
       "      <td>148</td>\n",
       "      <td>1</td>\n",
       "      <td>53.019894</td>\n",
       "      <td>0</td>\n",
       "      <td>1</td>\n",
       "    </tr>\n",
       "    <tr>\n",
       "      <th>e7f4855acd</th>\n",
       "      <td>28</td>\n",
       "      <td>920.45</td>\n",
       "      <td>131.492857</td>\n",
       "      <td>5.000</td>\n",
       "      <td>558</td>\n",
       "      <td>530</td>\n",
       "      <td>3</td>\n",
       "      <td>54.785714</td>\n",
       "      <td>0</td>\n",
       "      <td>1</td>\n",
       "    </tr>\n",
       "    <tr>\n",
       "      <th>eb6cafa141</th>\n",
       "      <td>388</td>\n",
       "      <td>248161.88</td>\n",
       "      <td>1204.669320</td>\n",
       "      <td>2.883</td>\n",
       "      <td>698</td>\n",
       "      <td>310</td>\n",
       "      <td>5</td>\n",
       "      <td>53.892307</td>\n",
       "      <td>0</td>\n",
       "      <td>1</td>\n",
       "    </tr>\n",
       "    <tr>\n",
       "      <th>f020b29644</th>\n",
       "      <td>55</td>\n",
       "      <td>2072.98</td>\n",
       "      <td>94.226364</td>\n",
       "      <td>3.500</td>\n",
       "      <td>423</td>\n",
       "      <td>368</td>\n",
       "      <td>3</td>\n",
       "      <td>53.480519</td>\n",
       "      <td>0</td>\n",
       "      <td>1</td>\n",
       "    </tr>\n",
       "  </tbody>\n",
       "</table>\n",
       "</div>"
      ],
      "text/plain": [
       "            Period  Total_Expense  Average_expense_daily  Frequency  \\\n",
       "merchant                                                              \n",
       "09689dc3f0      69        1358.78              67.939000      4.450   \n",
       "5519880667      17       11474.52            1434.315000      3.125   \n",
       "77586d88d9       8        8457.55             291.639655      1.276   \n",
       "826d94dbc5      20         568.31              71.038750      3.500   \n",
       "9f0508694f      30        4947.91              72.763382      1.441   \n",
       "e7f4855acd      28         920.45             131.492857      5.000   \n",
       "eb6cafa141     388      248161.88            1204.669320      2.883   \n",
       "f020b29644      55        2072.98              94.226364      3.500   \n",
       "\n",
       "            Freshness  Recency label  ChurnScore  Churn  Predict  \n",
       "merchant                                                          \n",
       "09689dc3f0        550      482     3   54.881941      0        1  \n",
       "5519880667        339      322     3   54.461176      0        1  \n",
       "77586d88d9        122      115     1   51.312696      0        1  \n",
       "826d94dbc5        356      337     3   50.642857      0        1  \n",
       "9f0508694f        178      148     1   53.019894      0        1  \n",
       "e7f4855acd        558      530     3   54.785714      0        1  \n",
       "eb6cafa141        698      310     5   53.892307      0        1  \n",
       "f020b29644        423      368     3   53.480519      0        1  "
      ]
     },
     "execution_count": 33,
     "metadata": {},
     "output_type": "execute_result"
    }
   ],
   "source": [
    "# make prediction with XGBoost model above\n",
    "XGB_pred_act=XGBmodel.predict(X_scale_act)\n",
    "df_act['Predict']=XGB_pred_act\n",
    "\n",
    "# show which merchants are predicted to be more likely to churn in the near future\n",
    "df_act[df_act['Predict']==1]"
   ]
  },
  {
   "cell_type": "markdown",
   "id": "d5e16521",
   "metadata": {},
   "source": [
    "# Conclusions:\n",
    "### we can see from the prediction, most of the merchants who are predicted to churn belong to \"label 3\", which is consistant with the initial guess we made before.\n",
    "### There are some merchants belong to \"label 1\" we still need to pay attention to them, or they may churn in the near future."
   ]
  },
  {
   "cell_type": "markdown",
   "id": "b98b9222",
   "metadata": {},
   "source": []
  }
 ],
 "metadata": {
  "kernelspec": {
   "display_name": "Python 3 (ipykernel)",
   "language": "python",
   "name": "python3"
  },
  "language_info": {
   "codemirror_mode": {
    "name": "ipython",
    "version": 3
   },
   "file_extension": ".py",
   "mimetype": "text/x-python",
   "name": "python",
   "nbconvert_exporter": "python",
   "pygments_lexer": "ipython3",
   "version": "3.8.5"
  }
 },
 "nbformat": 4,
 "nbformat_minor": 5
}
